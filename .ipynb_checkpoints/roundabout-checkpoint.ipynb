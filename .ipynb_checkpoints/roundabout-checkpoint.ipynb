{
 "cells": [
  {
   "cell_type": "code",
   "execution_count": null,
   "metadata": {},
   "outputs": [],
   "source": [
    "#ROUNDABOUT SIMULATION\n",
    "\n",
    "#GLOBAL VARIABLES\n",
    "\n",
    "N = \"North\"\n",
    "S = \"South\"\n",
    "E = \"East\"\n",
    "W = \"West\"\n",
    "MEAN_ARRIVAL_TIME = 10\n",
    "PRINT_EVENTS = True\n",
    "\n",
    "class Car:\n",
    "    \n",
    "    #each car has its own arrival time, entrance speed, and destination\n",
    "    def _init_(self, arrival_time, dest, speed):\n",
    "        self.arrival_time = arrival_time\n",
    "        self.dest = dest\n",
    "        self.speed = speed\n",
    "        \n",
    "    #def \n",
    "    \n",
    "\n",
    "class Pedestrian:"
   ]
  }
 ],
 "metadata": {
  "kernelspec": {
   "display_name": "Python 3",
   "language": "python",
   "name": "python3"
  },
  "language_info": {
   "codemirror_mode": {
    "name": "ipython",
    "version": 3
   },
   "file_extension": ".py",
   "mimetype": "text/x-python",
   "name": "python",
   "nbconvert_exporter": "python",
   "pygments_lexer": "ipython3",
   "version": "3.8.3"
  }
 },
 "nbformat": 4,
 "nbformat_minor": 4
}
