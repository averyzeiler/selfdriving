{
 "cells": [
  {
   "cell_type": "code",
   "execution_count": null,
   "metadata": {},
   "outputs": [],
   "source": [
    "#ROUNDABOUT SIMULATION\n",
    "\n",
    "#GLOBAL VARIABLES\n",
    "\n",
    "N = \"North\"\n",
    "S = \"South\"\n",
    "E = \"East\"\n",
    "W = \"West\"\n",
    "MEAN_ARRIVAL_TIME = 10\n",
    "PRINT_EVENTS = True\n",
    "\n",
    "class Car:\n",
    "    \n",
    "    #each car has its own arrival time, entrance speed, and destination\n",
    "    def _init_(self, arrival_time, dest, speed):\n",
    "        self.arrival_time = arrival_time\n",
    "        self.dest = dest\n",
    "        self.speed = speed\n",
    "        \n",
    "    #def \n",
    "    \n",
    "\n",
    "class Pedestrian:\n",
    "\n",
    "    #each pedestrian has its own arrival time, destination, and time to cross street\n",
    "    def _init_(self, arrival_time, dest, cross_time):\n",
    "        self.arrival_time = arrival_time\n",
    "        self.dest = dest\n",
    "        self.cross_time = cross_time\n",
    "\n",
    "class Simulation:\n",
    "\n",
    "    upper_arrival_time = 2 * MEAN_ARRIVAL_TIME\n",
    "\n",
    "    def _init_(self, total_arrivals):\n",
    "        self.arrivals = 0\n",
    "        self.total_arrivals = total_arrivals\n",
    "        self.clock = 0\n",
    "\n",
    "        #cars waiting to enter roundabout\n",
    "        self.north, self.east, self.south, self.west = [], [], [], []\n",
    "        #queues in roundabout\n",
    "        self.left_straight, self.right = [], []\n"
   ]
  }
 ],
 "metadata": {
  "kernelspec": {
   "display_name": "Python 3",
   "language": "python",
   "name": "python3"
  },
  "language_info": {
   "codemirror_mode": {
    "name": "ipython",
    "version": 3
   },
   "file_extension": ".py",
   "mimetype": "text/x-python",
   "name": "python",
   "nbconvert_exporter": "python",
   "pygments_lexer": "ipython3",
   "version": "3.8.3"
  }
 },
 "nbformat": 4,
 "nbformat_minor": 4
}
